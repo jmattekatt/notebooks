{
 "cells": [
  {
   "cell_type": "code",
   "execution_count": 1,
   "metadata": {},
   "outputs": [],
   "source": [
    "# Library Imports\n",
    "import ipywidgets as widgets\n",
    "import numpy as np\n",
    "import matplotlib.pyplot as plt\n",
    "import matplotlib.patches as mpatches"
   ]
  },
  {
   "cell_type": "code",
   "execution_count": 2,
   "metadata": {},
   "outputs": [],
   "source": [
    "# Slider class to combine slide and play handler\n",
    "class Slider:    \n",
    "    def __init__(self, call_back, descp, default_val=0, minimum=0, maximum=10):\n",
    "        # Create player and slider\n",
    "        self.player = widgets.Play(min=minimum, interval=1000, value=default_val)\n",
    "        self.slider = widgets.FloatSlider(description=descp, min=minimum, max=maximum, step=0.1, continuous_update=True,\n",
    "                                       layout=widgets.Layout(width='40%'))\n",
    "        self.link(call_back)\n",
    "  \n",
    "    # Link slider and player\n",
    "    def link(self, on_value_change):\n",
    "        self.slider.observe(on_value_change, 'value')\n",
    "        widgets.jslink((self.player, 'value'), (self.slider, 'value'))"
   ]
  },
  {
   "cell_type": "code",
   "execution_count": 3,
   "metadata": {},
   "outputs": [],
   "source": [
    "# Signal class to generate function points and hold signal parameters\n",
    "class Signal:    \n",
    "    def __init__(self, function, color, descp):\n",
    "        self.function = function\n",
    "        self.color = color\n",
    "        self.amplitude = 1\n",
    "        self.frequency = 1\n",
    "        self.patch = mpatches.Patch(color=self.color, label=descp)\n",
    "        \n",
    "    def update(self, params):\n",
    "        self.amplitude = params.get(\"Amplitude\", self.amplitude)\n",
    "        self.frequency = params.get(\"Frequency\", self.frequency)\n",
    "        \n",
    "    def generate_points(self, time_values):\n",
    "        return self.amplitude * self.function(self.frequency * time_values)"
   ]
  },
  {
   "cell_type": "code",
   "execution_count": 4,
   "metadata": {},
   "outputs": [],
   "source": [
    "# Graph class to hold all plotting variables\n",
    "class Graph: \n",
    "    def __init__(self, slider_list, function_list, title, interval=0.001, limit=6):\n",
    "        # Create title based on type of plot\n",
    "        temp = r' of $e^{i \\Omega t}, \\Omega = $' if interval < 0.5 else r' of $e^{i \\omega n}, \\omega = $'\n",
    "        self.title = title + temp\n",
    "        self.sliders = [Slider(self.call_back, *slide) for slide in slider_list]\n",
    "        self.functions = [Signal(*funct) for funct in function_list]\n",
    "        \n",
    "        self.time_values = np.arange(0, limit, interval)\n",
    "        self.out = widgets.Output()\n",
    "        \n",
    "        self.fig, self.ax = plt.subplots(figsize=(8, 6))\n",
    "        self.ax.grid(True)\n",
    "        self.ax.set_ylabel(\"Amplitude\")\n",
    "        self.ax.axis([0, limit, -10, 10])\n",
    "        self.ax.axhline(0, linewidth=1, color='black')\n",
    "        self.ax.axvline(0, linewidth=1, color='black')\n",
    "        self.ax.legend(handles=[funct.patch for funct in self.functions])\n",
    "        self.initial_plot(interval)\n",
    "        plt.close(self.fig)\n",
    "        self.refresh()\n",
    "        \n",
    "    # Create the first plot\n",
    "    def initial_plot(self, interval):\n",
    "        params = {} if interval < 0.01 else {'marker':'.', 'linestyle':'None'}\n",
    "        self.curve = {}\n",
    "        # Plot the functions\n",
    "        for funct in self.functions:\n",
    "            self.curve[funct.color], = self.ax.plot(\n",
    "                self.time_values, funct.generate_points(self.time_values), color=funct.color, **params)\n",
    "        # Get all elements to display\n",
    "        display_list = [widgets.HBox([slide.slider, slide.player]) for slide in self.sliders]\n",
    "        display_list.append(self.out)\n",
    "        self.full_output = widgets.VBox(display_list)\n",
    "        \n",
    "    # Respond to slider changes\n",
    "    def call_back(self, change):\n",
    "        for funct in self.functions:\n",
    "            funct.update({change[\"owner\"].description : change[\"new\"]})\n",
    "            if change[\"owner\"].description == \"Frequency\":\n",
    "                if len(self.time_values) < 50:\n",
    "                    self.ax.set_title(self.title + \" %.2f radians/sample\" % (change[\"new\"]))\n",
    "                else:\n",
    "                    self.ax.set_title(self.title + \" %.2f radians/second\" % (change[\"new\"]))\n",
    "            self.curve[funct.color].set_ydata(funct.generate_points(self.time_values))\n",
    "        self.refresh()\n",
    "    \n",
    "    # Refresh the plot\n",
    "    def refresh(self):\n",
    "        self.out.clear_output(wait=True)\n",
    "        with self.out:\n",
    "            display(self.fig)\n",
    "    \n",
    "    # Display the plot\n",
    "    def display_graph(self):\n",
    "        display(self.full_output)\n",
    "        self.refresh()\n",
    "        "
   ]
  },
  {
   "cell_type": "code",
   "execution_count": 5,
   "metadata": {},
   "outputs": [],
   "source": [
    "# Place all graphs inside tabs\n",
    "def display_tab(plots, titles):\n",
    "    tab = widgets.Tab()\n",
    "    tab.children = plots\n",
    "    for i in range(len(titles)):\n",
    "        tab.set_title(i, titles[i])\n",
    "    display(tab)"
   ]
  },
  {
   "cell_type": "code",
   "execution_count": 6,
   "metadata": {},
   "outputs": [
    {
     "data": {
      "application/vnd.jupyter.widget-view+json": {
       "model_id": "30f3574e012245f4aba872f9732e2ad2",
       "version_major": 2,
       "version_minor": 0
      },
      "text/plain": [
       "Tab(children=(VBox(children=(HBox(children=(FloatSlider(value=0.0, description='Amplitude', layout=Layout(widt…"
      ]
     },
     "metadata": {},
     "output_type": "display_data"
    }
   ],
   "source": [
    "# Continuous Time Complex Exponential\n",
    "cont_cplx = Graph([[\"Amplitude\", 1], [\"Frequency\", 1]], [[np.cos, \"red\", \"Real\"], [np.sin, \"blue\", \"Imaginary\"]],\n",
    "                 \"Continuous Time Complex Exponential\\nBoth components\")\n",
    "cont_real = Graph([[\"Amplitude\", 1], [\"Frequency\", 1]], [[np.cos, \"red\", \"Real\"]],\n",
    "                 \"Continuous Time Complex Exponential\\nReal component\")\n",
    "cont_imag = Graph([[\"Amplitude\", 1], [\"Frequency\", 1]], [[np.sin, \"blue\", \"Imaginary\"]],\n",
    "                 \"Continuous Time Complex Exponential\\nImaginary component\")\n",
    "tab_contents = [\"Real\", \"Imaginary\", \"Both\"]\n",
    "\n",
    "display_tab([cont_real.full_output, cont_imag.full_output, cont_cplx.full_output], tab_contents)"
   ]
  },
  {
   "cell_type": "code",
   "execution_count": 7,
   "metadata": {},
   "outputs": [
    {
     "data": {
      "application/vnd.jupyter.widget-view+json": {
       "model_id": "14c58063766c48d0bfc343aa90897798",
       "version_major": 2,
       "version_minor": 0
      },
      "text/plain": [
       "Tab(children=(VBox(children=(HBox(children=(FloatSlider(value=0.0, description='Amplitude', layout=Layout(widt…"
      ]
     },
     "metadata": {},
     "output_type": "display_data"
    }
   ],
   "source": [
    "# Discrete Time Complex Exponential\n",
    "dcrt_cplx = Graph([[\"Amplitude\", 1], [\"Frequency\", 1]], [[np.cos, \"red\", \"Real\"], [np.sin, \"blue\", \"Imaginary\"]],\n",
    "                  \"Discrete Time Complex Exponential\\nBoth components\", 1, 30)\n",
    "dcrt_real = Graph([[\"Amplitude\", 1], [\"Frequency\", 1]], [[np.cos, \"red\", \"Real\"]],\n",
    "                  \"Discrete Time Complex Exponential\\nReal component\", 1, 30)\n",
    "dcrt_imag = Graph([[\"Amplitude\", 1], [\"Frequency\", 1]], [[np.sin, \"blue\", \"Imaginary\"]],\n",
    "                  \"Discrete Time Complex Exponential\\nImaginary component\" ,1, 30)\n",
    "tab_contents = [\"Real\", \"Imaginary\", \"Both\"]\n",
    "\n",
    "display_tab([dcrt_real.full_output, dcrt_imag.full_output, dcrt_cplx.full_output], tab_contents)"
   ]
  },
  {
   "cell_type": "code",
   "execution_count": null,
   "metadata": {},
   "outputs": [],
   "source": []
  }
 ],
 "metadata": {
  "kernelspec": {
   "display_name": "Python 3",
   "language": "python",
   "name": "python3"
  },
  "language_info": {
   "codemirror_mode": {
    "name": "ipython",
    "version": 3
   },
   "file_extension": ".py",
   "mimetype": "text/x-python",
   "name": "python",
   "nbconvert_exporter": "python",
   "pygments_lexer": "ipython3",
   "version": "3.6.5"
  }
 },
 "nbformat": 4,
 "nbformat_minor": 2
}
